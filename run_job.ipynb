{
 "cells": [
  {
   "cell_type": "code",
   "execution_count": 1,
   "metadata": {},
   "outputs": [
    {
     "name": "stdout",
     "output_type": "stream",
     "text": [
      "請輸入開始頁數:1\n",
      "請輸入結束頁數:40\n",
      "請輸入關鍵字:hadoop\n",
      "目前頁面: 第1頁\n",
      "目前頁面: 第2頁\n",
      "目前頁面: 第3頁\n",
      "目前頁面: 第4頁\n",
      "目前頁面: 第5頁\n",
      "目前頁面: 第6頁\n",
      "目前頁面: 第7頁\n",
      "目前頁面: 第8頁\n",
      "目前頁面: 第9頁\n",
      "目前頁面: 第10頁\n",
      "目前頁面: 第11頁\n",
      "目前頁面: 第12頁\n",
      "目前頁面: 第13頁\n",
      "目前頁面: 第14頁\n",
      "目前頁面: 第15頁\n",
      "目前頁面: 第16頁\n",
      "目前頁面: 第17頁\n",
      "目前頁面: 第18頁\n",
      "目前頁面: 第19頁\n",
      "目前頁面: 第20頁\n",
      "目前頁面: 第21頁\n",
      "目前頁面: 第22頁\n",
      "目前頁面: 第23頁\n",
      "目前頁面: 第24頁\n",
      "目前頁面: 第25頁\n",
      "目前頁面: 第26頁\n",
      "目前頁面: 第27頁\n",
      "目前頁面: 第28頁\n",
      "目前頁面: 第29頁\n",
      "目前頁面: 第30頁\n",
      "目前頁面: 第31頁\n",
      "目前頁面: 第32頁\n",
      "目前頁面: 第33頁\n",
      "目前頁面: 第34頁\n",
      "目前頁面: 第35頁\n",
      "目前頁面: 第36頁\n",
      "目前頁面: 第37頁\n",
      "目前頁面: 第38頁\n",
      "目前頁面: 第39頁\n",
      "目前頁面: 第40頁\n",
      "                                     jobName              companyName salary  \\\n",
      "0                           Hadoop軟體工程師(T48)               關貿網路股份有限公司  依公司規定   \n",
      "1        Hadoop/Spark System Developer 軟體工程師                 偉薩科技有限公司     面議   \n",
      "2       Search Data Engineer (Oracle/Hadoop)  香港商雅虎資訊股份有限公司(Yahoo!奇摩)     面議   \n",
      "3                            (約聘)Hadoop資料工程師             中華系統整合股份有限公司     面議   \n",
      "4  Backend Engineer (Real Time Data Serving)        國泰金控_國泰金融控股股份有限公司     面議   \n",
      "\n",
      "  experience   place companySize special school  \\\n",
      "0       2年以上  台北市南港區      員工470人    上市上櫃     大學   \n",
      "1       經歷不拘  台北市萬華區        員工8人             大學   \n",
      "2       3年以上  台北市南港區     員工1200人    外商公司     大學   \n",
      "3       1年以上  台北市大安區      員工115人             大學   \n",
      "4       經歷不拘  台北市信義區      員工200人    上市上櫃     大學   \n",
      "\n",
      "                                         description  \n",
      "0  1. 雲端大數據資料視覺化分析平台研發。\\n2. Hadoop-based應用系統開發維護及...  \n",
      "1  , Hadoop, Spark platforms and infrastructure c...  \n",
      "2  About Yahoo\\nYahoo is focused on making the wo...  \n",
      "3  1.大數據資料ETL及資料解析程式開發及維護(包含行動/寬頻瀏覽、行動位置資料、MOD收視及...  \n",
      "4  - Design ETL from Hadoop to NoSQL\\n- Design da...  \n"
     ]
    }
   ],
   "source": [
    "%run job.py"
   ]
  },
  {
   "cell_type": "code",
   "execution_count": 20,
   "metadata": {},
   "outputs": [
    {
     "name": "stdout",
     "output_type": "stream",
     "text": [
      "請輸入關鍵字:資料分析\n"
     ]
    },
    {
     "data": {
      "text/plain": [
       "'資料分析'"
      ]
     },
     "execution_count": 20,
     "metadata": {},
     "output_type": "execute_result"
    }
   ],
   "source": [
    "key_word = input('請輸入關鍵字:')\n",
    "key_word"
   ]
  },
  {
   "cell_type": "code",
   "execution_count": 21,
   "metadata": {},
   "outputs": [
    {
     "data": {
      "text/plain": [
       "str"
      ]
     },
     "execution_count": 21,
     "metadata": {},
     "output_type": "execute_result"
    }
   ],
   "source": [
    "type(key_word)"
   ]
  },
  {
   "cell_type": "code",
   "execution_count": 24,
   "metadata": {},
   "outputs": [
    {
     "data": {
      "text/plain": [
       "b'\\xe8\\xb3\\x87\\xe6\\x96\\x99\\xe5\\x88\\x86\\xe6\\x9e\\x90'"
      ]
     },
     "execution_count": 24,
     "metadata": {},
     "output_type": "execute_result"
    }
   ],
   "source": [
    "key_word.encode('utf-8')"
   ]
  },
  {
   "cell_type": "code",
   "execution_count": 16,
   "metadata": {},
   "outputs": [
    {
     "name": "stdout",
     "output_type": "stream",
     "text": [
      "b'\\xe7\\xa8\\xae'\n"
     ]
    }
   ],
   "source": [
    "print(key_word.encode('utf-8'))"
   ]
  },
  {
   "cell_type": "code",
   "execution_count": 17,
   "metadata": {},
   "outputs": [
    {
     "name": "stdout",
     "output_type": "stream",
     "text": [
      "種\n"
     ]
    }
   ],
   "source": [
    "print(key_word.encode('utf-8').decode('utf-8'))"
   ]
  },
  {
   "cell_type": "code",
   "execution_count": 23,
   "metadata": {},
   "outputs": [],
   "source": [
    "url = 'https://www.104.com.tw/jobs/search/?keyword=' + key_word + '%E9%AB%98%E8%96%AA&area=6001001000&cat=2007001000&jobsource=n104bank1&ro=0'"
   ]
  },
  {
   "cell_type": "code",
   "execution_count": 25,
   "metadata": {},
   "outputs": [
    {
     "data": {
      "text/plain": [
       "'https://www.104.com.tw/jobs/search/?keyword=資料分析%E9%AB%98%E8%96%AA&area=6001001000&cat=2007001000&jobsource=n104bank1&ro=0'"
      ]
     },
     "execution_count": 25,
     "metadata": {},
     "output_type": "execute_result"
    }
   ],
   "source": [
    "https://www.104.com.tw/jobs/search/?ro=0&jobcat=2007001000&keyword=%E8%B3%87%E6%96%99&area=6001001000&order=1&asc=0&page=1&mode=s&jobsource=n104bank1"
   ]
  },
  {
   "cell_type": "code",
   "execution_count": null,
   "metadata": {},
   "outputs": [],
   "source": [
    "https://www.104.com.tw/jobs/search/?keyword=%E9%AB%98%E8%96%AA&area=6001001000&cat=2007001000&jobsource=n104bank1&ro=0"
   ]
  }
 ],
 "metadata": {
  "kernelspec": {
   "display_name": "Python 3",
   "language": "python",
   "name": "python3"
  },
  "language_info": {
   "codemirror_mode": {
    "name": "ipython",
    "version": 3
   },
   "file_extension": ".py",
   "mimetype": "text/x-python",
   "name": "python",
   "nbconvert_exporter": "python",
   "pygments_lexer": "ipython3",
   "version": "3.6.4"
  }
 },
 "nbformat": 4,
 "nbformat_minor": 2
}
